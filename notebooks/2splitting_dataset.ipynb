{
 "cells": [
  {
   "cell_type": "markdown",
   "metadata": {},
   "source": [
    "# what is done here?\n",
    "we are splitting our dataset into train test validation with 60% 20% 20% respective shares"
   ]
  },
  {
   "cell_type": "code",
   "execution_count": 2,
   "metadata": {},
   "outputs": [],
   "source": [
    "import os, shutil, random"
   ]
  },
  {
   "cell_type": "code",
   "execution_count": 13,
   "metadata": {},
   "outputs": [],
   "source": [
    "source = os.listdir('/home/dexter/Projects/interview/eagleView/data/trainval/annotations')"
   ]
  },
  {
   "cell_type": "code",
   "execution_count": 14,
   "metadata": {},
   "outputs": [
    {
     "name": "stdout",
     "output_type": "stream",
     "text": [
      "done\n"
     ]
    }
   ],
   "source": [
    "split = int(len(source)*0.2)\n",
    "lii = random.sample(source,int(len(source)*0.2))\n",
    "for fil in lii:\n",
    "    shutil.move(f'/home/dexter/Projects/interview/eagleView/data/trainval/annotations/{fil}',f'/home/dexter/Projects/interview/eagleView/data/trainval/validation/annotations/{fil}')\n",
    "    shutil.move(f'/home/dexter/Projects/interview/eagleView/data/trainval/images/{fil[:-3]}jpg',f'/home/dexter/Projects/interview/eagleView/data/trainval/validation/images/{fil[:-3]}jpg')\n",
    "\n",
    "source = list(set(source) - set(lii))\n",
    "lii = random.sample(source,split)\n",
    "for fil in lii:\n",
    "    shutil.move(f'/home/dexter/Projects/interview/eagleView/data/trainval/annotations/{fil}',f'/home/dexter/Projects/interview/eagleView/data/trainval/test/annotations/{fil}')\n",
    "    shutil.move(f'/home/dexter/Projects/interview/eagleView/data/trainval/images/{fil[:-3]}jpg',f'/home/dexter/Projects/interview/eagleView/data/trainval/test/images/{fil[:-3]}jpg')\n",
    "\n",
    "source = list(set(source) - set(lii)) \n",
    "for fil in source:\n",
    "    shutil.move(f'/home/dexter/Projects/interview/eagleView/data/trainval/annotations/{fil}',f'/home/dexter/Projects/interview/eagleView/data/trainval/train/annotations/{fil}')\n",
    "    shutil.move(f'/home/dexter/Projects/interview/eagleView/data/trainval/images/{fil[:-3]}jpg',f'/home/dexter/Projects/interview/eagleView/data/trainval/train/images/{fil[:-3]}jpg')\n",
    "\n",
    "print('done')"
   ]
  },
  {
   "cell_type": "code",
   "execution_count": null,
   "metadata": {},
   "outputs": [],
   "source": []
  }
 ],
 "metadata": {
  "kernelspec": {
   "display_name": "Python 3",
   "language": "python",
   "name": "python3"
  },
  "language_info": {
   "codemirror_mode": {
    "name": "ipython",
    "version": 3
   },
   "file_extension": ".py",
   "mimetype": "text/x-python",
   "name": "python",
   "nbconvert_exporter": "python",
   "pygments_lexer": "ipython3",
   "version": "3.6.9"
  }
 },
 "nbformat": 4,
 "nbformat_minor": 4
}
